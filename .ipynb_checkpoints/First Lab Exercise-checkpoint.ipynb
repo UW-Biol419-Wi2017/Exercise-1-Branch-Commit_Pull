{
 "cells": [
  {
   "cell_type": "code",
   "execution_count": 1,
   "metadata": {
    "collapsed": true
   },
   "outputs": [],
   "source": [
    "# Your mission:\n",
    "# -fork this code to your own repository\n",
    "# -try running the code in Jupyter\n",
    "# -edit the code to produce the desired output \n",
    "# -add comments to describe the purpose of each step\n",
    "# -save your code\n",
    "# -commit the changes in GitHub\n",
    "# -submit a pull request to merge your altered code to the source repository\n",
    "# -Cooper will comment on the pull request to give you feedback"
   ]
  },
  {
   "cell_type": "code",
   "execution_count": 2,
   "metadata": {
    "collapsed": true
   },
   "outputs": [],
   "source": [
    "# Code goal: create a 2x4 matrix with the following values\n",
    "# Row one: the first four digits of pi, without the decimal point (already done for you)\n",
    "# Row two: the first four digits of e, without the decimal point\n",
    "\n",
    "# OPTIONAL: append to the matrix above.\n",
    "# Rows one and two: same as above\n",
    "# Row three: the first 4 digits of pi*3, without the decimal point\n",
    "# Row four: the first four digits of e/4, without the decimal point"
   ]
  },
  {
   "cell_type": "code",
   "execution_count": 3,
   "metadata": {
    "collapsed": false
   },
   "outputs": [
    {
     "data": {
      "text/plain": [
       "3.141592653589793"
      ]
     },
     "execution_count": 3,
     "metadata": {},
     "output_type": "execute_result"
    }
   ],
   "source": [
    "# Add more math knowledge to the notebook\n",
    "# So pi is no long just as two english letters but can be recognized as a math constant number. \n",
    "# On the second line in this cell, the math in front of pi lets it to show the value of pi.\n",
    "import math\n",
    "math.pi"
   ]
  },
  {
   "cell_type": "code",
   "execution_count": 4,
   "metadata": {
    "collapsed": false
   },
   "outputs": [
    {
     "data": {
      "text/plain": [
       "2.718281828459045"
      ]
     },
     "execution_count": 4,
     "metadata": {},
     "output_type": "execute_result"
    }
   ],
   "source": [
    "math.e"
   ]
  },
  {
   "cell_type": "code",
   "execution_count": 5,
   "metadata": {
    "collapsed": false
   },
   "outputs": [
    {
     "name": "stdout",
     "output_type": "stream",
     "text": [
      "3.141592653589793\n"
     ]
    }
   ],
   "source": [
    "# In the first line, \"Pi\" is assigned to have the value of pi. \n",
    "# \"str()\" change the value of pi into a series of individual numbers, like putting boxes to each digit,\n",
    "# so these numbers as be assigned to the matrix later. \n",
    "# When print pi, it shows tha value of pi. \n",
    "# When print digitsOfPi, it shows a series of number which happens to have a same order as the value of pi. \n",
    "Pi = math.pi\n",
    "digitsOfPi = str(Pi)\n",
    "print(digitsOfPi)"
   ]
  },
  {
   "cell_type": "code",
   "execution_count": 6,
   "metadata": {
    "collapsed": true
   },
   "outputs": [],
   "source": [
    "# a,b,c,d is assigned to have a value of the first, third, fourth and fifith digit of pi (as 3,1,4,1)\n",
    "# Because \".\" is the second digit of pi, which is \"1\" in python\n",
    "a = digitsOfPi[0]\n",
    "b = digitsOfPi[2]\n",
    "c = digitsOfPi[3]\n",
    "d = digitsOfPi[4]"
   ]
  },
  {
   "cell_type": "code",
   "execution_count": 7,
   "metadata": {
    "collapsed": false
   },
   "outputs": [
    {
     "data": {
      "text/plain": [
       "'3'"
      ]
     },
     "execution_count": 7,
     "metadata": {},
     "output_type": "execute_result"
    }
   ],
   "source": [
    "a"
   ]
  },
  {
   "cell_type": "code",
   "execution_count": 8,
   "metadata": {
    "collapsed": false
   },
   "outputs": [
    {
     "data": {
      "text/plain": [
       "array(['3', '1', '4', '1'], \n",
       "      dtype='<U1')"
      ]
     },
     "execution_count": 8,
     "metadata": {},
     "output_type": "execute_result"
    }
   ],
   "source": [
    "# numpy package is imported into the notebook\n",
    "# the first row of the matrix is built.\n",
    "import numpy as np\n",
    "firstRow = np.array([a,b,c,d])\n",
    "firstRow"
   ]
  },
  {
   "cell_type": "code",
   "execution_count": 9,
   "metadata": {
    "collapsed": false
   },
   "outputs": [
    {
     "name": "stdout",
     "output_type": "stream",
     "text": [
      "2.718281828459045\n"
     ]
    },
    {
     "data": {
      "text/plain": [
       "array(['2', '7', '1', '8'], \n",
       "      dtype='<U1')"
      ]
     },
     "execution_count": 9,
     "metadata": {},
     "output_type": "execute_result"
    }
   ],
   "source": [
    "# use same mathod to build second row as to build first row\n",
    "# \".\" is \"1\" in Python\n",
    "Euler = math.e\n",
    "digitsOfEuler=str(Euler)\n",
    "print (digitsOfEuler)\n",
    "e=digitsOfEuler[0]\n",
    "f=digitsOfEuler[2]\n",
    "g=digitsOfEuler[3]\n",
    "h=digitsOfEuler[4]\n",
    "secondRow=np.array([e,f,g,h])\n",
    "secondRow"
   ]
  },
  {
   "cell_type": "code",
   "execution_count": 10,
   "metadata": {
    "collapsed": false
   },
   "outputs": [
    {
     "data": {
      "text/plain": [
       "array([['3', '1', '4', '1'],\n",
       "       ['2', '7', '1', '8']], \n",
       "      dtype='<U1')"
      ]
     },
     "execution_count": 10,
     "metadata": {},
     "output_type": "execute_result"
    }
   ],
   "source": [
    "# the first and second row(matrix) is put together vertically into one matirx.\n",
    "CombinedMatrix = np.vstack((firstRow,secondRow))\n",
    "CombinedMatrix"
   ]
  },
  {
   "cell_type": "code",
   "execution_count": 11,
   "metadata": {
    "collapsed": false
   },
   "outputs": [
    {
     "data": {
      "text/plain": [
       "array([[3, 1, 4, 1],\n",
       "       [2, 7, 1, 8]])"
      ]
     },
     "execution_count": 11,
     "metadata": {},
     "output_type": "execute_result"
    }
   ],
   "source": [
    "# the final matrix is rewirtten as number, instead of number represented letters.\n",
    "FinalMatrix = CombinedMatrix.astype(np.int)\n",
    "FinalMatrix"
   ]
  },
  {
   "cell_type": "code",
   "execution_count": 12,
   "metadata": {
    "collapsed": false
   },
   "outputs": [
    {
     "name": "stdout",
     "output_type": "stream",
     "text": [
      "9.42477796076938\n"
     ]
    },
    {
     "data": {
      "text/plain": [
       "array([['3', '1', '4', '1'],\n",
       "       ['2', '7', '1', '8'],\n",
       "       ['9', '4', '2', '4']], \n",
       "      dtype='<U1')"
      ]
     },
     "execution_count": 12,
     "metadata": {},
     "output_type": "execute_result"
    }
   ],
   "source": [
    "# the third row is built and vertically added to the final matrix, using first 4 digits of pi*3\n",
    "# \".\" is \"1\" in Python\n",
    "ThrPi = math.pi*3\n",
    "DigitsOf3Pi = str(ThrPi)\n",
    "print (DigitsOf3Pi)\n",
    "i=DigitsOf3Pi[0]\n",
    "j=DigitsOf3Pi[2]\n",
    "k=DigitsOf3Pi[3]\n",
    "l=DigitsOf3Pi[4]\n",
    "thridrow=np.array([i,j,k,l])\n",
    "Final3Matrix=np.vstack((CombinedMatrix,thridrow))\n",
    "Final3Matrix"
   ]
  },
  {
   "cell_type": "code",
   "execution_count": 13,
   "metadata": {
    "collapsed": false
   },
   "outputs": [
    {
     "name": "stdout",
     "output_type": "stream",
     "text": [
      "0.6795704571147613\n"
     ]
    },
    {
     "data": {
      "text/plain": [
       "array([['3', '1', '4', '1'],\n",
       "       ['2', '7', '1', '8'],\n",
       "       ['9', '4', '2', '4'],\n",
       "       ['0', '6', '7', '9']], \n",
       "      dtype='<U1')"
      ]
     },
     "execution_count": 13,
     "metadata": {},
     "output_type": "execute_result"
    }
   ],
   "source": [
    "# the fourth row is built and vertically added to 3-row-matrix, using first 4 digits of e/4\n",
    "# \".\" is \"1\" in Python\n",
    "FourthOfE=math.e/4\n",
    "DigitsOf4e=str(FourthOfE)\n",
    "print (DigitsOf4e)\n",
    "m=DigitsOf4e[0]\n",
    "n=DigitsOf4e[2]\n",
    "o=DigitsOf4e[3]\n",
    "p=DigitsOf4e[4]\n",
    "fourthrow=np.array([m,n,o,p]) \n",
    "Final4Matrix=np.vstack((Final3Matrix,fourthrow))\n",
    "Final4Matrix"
   ]
  },
  {
   "cell_type": "code",
   "execution_count": 14,
   "metadata": {
    "collapsed": false
   },
   "outputs": [
    {
     "data": {
      "text/plain": [
       "array([[3, 1, 4, 1],\n",
       "       [2, 7, 1, 8],\n",
       "       [9, 4, 2, 4],\n",
       "       [0, 6, 7, 9]])"
      ]
     },
     "execution_count": 14,
     "metadata": {},
     "output_type": "execute_result"
    }
   ],
   "source": [
    "# rewrite matrix in numbers\n",
    "OptionalFinalMatrix=Final4Matrix.astype(np.int)\n",
    "OptionalFinalMatrix"
   ]
  },
  {
   "cell_type": "code",
   "execution_count": null,
   "metadata": {
    "collapsed": true
   },
   "outputs": [],
   "source": []
  }
 ],
 "metadata": {
  "anaconda-cloud": {},
  "kernelspec": {
   "display_name": "Python [conda root]",
   "language": "python",
   "name": "conda-root-py"
  },
  "language_info": {
   "codemirror_mode": {
    "name": "ipython",
    "version": 3
   },
   "file_extension": ".py",
   "mimetype": "text/x-python",
   "name": "python",
   "nbconvert_exporter": "python",
   "pygments_lexer": "ipython3",
   "version": "3.5.2"
  }
 },
 "nbformat": 4,
 "nbformat_minor": 1
}
