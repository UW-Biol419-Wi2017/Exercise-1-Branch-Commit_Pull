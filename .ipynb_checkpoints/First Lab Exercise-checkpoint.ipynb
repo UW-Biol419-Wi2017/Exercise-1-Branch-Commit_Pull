{
 "cells": [
  {
   "cell_type": "code",
   "execution_count": 1,
   "metadata": {
    "collapsed": true
   },
   "outputs": [],
   "source": [
    "# Your mission:\n",
    "# -fork this code to your own repository\n",
    "# -try running the code in Jupyter\n",
    "# -edit the code to produce the desired output \n",
    "# -add comments to describe the purpose of each step\n",
    "# -save your code\n",
    "# -commit the changes in GitHub\n",
    "# -submit a pull request to merge your altered code to the source repository\n",
    "# -Cooper will comment on the pull request to give you feedback"
   ]
  },
  {
   "cell_type": "code",
   "execution_count": 2,
   "metadata": {
    "collapsed": true
   },
   "outputs": [],
   "source": [
    "# Code goal: create a 2x4 matrix with the following values\n",
    "# Row one: the first four digits of pi, without the decimal point (already done for you)\n",
    "# Row two: the first four digits of e, without the decimal point\n",
    "\n",
    "# OPTIONAL: append to the matrix above.\n",
    "# Rows one and two: same as above\n",
    "# Row three: the first 4 digits of pi*3, without the decimal point\n",
    "# Row four: the first four digits of e/4, without the decimal point"
   ]
  },
  {
   "cell_type": "code",
   "execution_count": 2,
   "metadata": {
    "collapsed": false
   },
   "outputs": [
    {
     "data": {
      "text/plain": [
       "3.141592653589793"
      ]
     },
     "execution_count": 2,
     "metadata": {},
     "output_type": "execute_result"
    }
   ],
   "source": [
    "# importing the contents from math\n",
    "import math\n",
    "math.pi"
   ]
  },
  {
   "cell_type": "code",
   "execution_count": 3,
   "metadata": {
    "collapsed": false
   },
   "outputs": [
    {
     "data": {
      "text/plain": [
       "2.718281828459045"
      ]
     },
     "execution_count": 3,
     "metadata": {},
     "output_type": "execute_result"
    }
   ],
   "source": [
    "math.e"
   ]
  },
  {
   "cell_type": "code",
   "execution_count": 4,
   "metadata": {
    "collapsed": false
   },
   "outputs": [
    {
     "name": "stdout",
     "output_type": "stream",
     "text": [
      "3.141592653589793\n"
     ]
    }
   ],
   "source": [
    "# Setting a variable Pi to pi value imported from math.\n",
    "Pi = math.pi\n",
    "digitsOfPi = str(Pi) # what is \"str()\" doing? How is \"digitsOfPi\" different from \"Pi\"? Answer: setting a variable digitsOfPi, which turns Pi value into a string. Pi is just an integer value but digitsofPi is a string.\n",
    "print(digitsOfPi)"
   ]
  },
  {
   "cell_type": "code",
   "execution_count": 10,
   "metadata": {
    "collapsed": true
   },
   "outputs": [],
   "source": [
    "# Calling rows from digitsOfPi into its respective variables.\n",
    "a = digitsOfPi[0]\n",
    "b = digitsOfPi[2]\n",
    "c = digitsOfPi[3]\n",
    "d = digitsOfPi[4]"
   ]
  },
  {
   "cell_type": "code",
   "execution_count": 11,
   "metadata": {
    "collapsed": false
   },
   "outputs": [
    {
     "data": {
      "text/plain": [
       "'3'"
      ]
     },
     "execution_count": 11,
     "metadata": {},
     "output_type": "execute_result"
    }
   ],
   "source": [
    "a"
   ]
  },
  {
   "cell_type": "code",
   "execution_count": 16,
   "metadata": {
    "collapsed": false
   },
   "outputs": [
    {
     "data": {
      "text/plain": [
       "array(['3', '1', '4', '1'], \n",
       "      dtype='<U1')"
      ]
     },
     "execution_count": 16,
     "metadata": {},
     "output_type": "execute_result"
    }
   ],
   "source": [
    "# Import numpy and create an array for firstRow using digitsofPi\n",
    "import numpy as np\n",
    "firstRow =  np.array([a,b,c,d])\n",
    "firstRow"
   ]
  },
  {
   "cell_type": "code",
   "execution_count": 18,
   "metadata": {
    "collapsed": false
   },
   "outputs": [
    {
     "name": "stdout",
     "output_type": "stream",
     "text": [
      "2.718281828459045\n"
     ]
    },
    {
     "data": {
      "text/plain": [
       "array(['2', '7', '1', '8'], \n",
       "      dtype='<U1')"
      ]
     },
     "execution_count": 18,
     "metadata": {},
     "output_type": "execute_result"
    }
   ],
   "source": [
    "Euler = math.e\n",
    "digitsOfe = str(Euler)\n",
    "print(digitsOfe)\n",
    "a = digitsOfe[0]\n",
    "b = digitsOfe[2]\n",
    "c = digitsOfe[3]\n",
    "d = digitsOfe[4]\n",
    "# more code here\n",
    "secondRow = np.array([a,b,c,d])\n",
    "secondRow"
   ]
  },
  {
   "cell_type": "code",
   "execution_count": 19,
   "metadata": {
    "collapsed": false
   },
   "outputs": [
    {
     "data": {
      "text/plain": [
       "array([['3', '1', '4', '1'],\n",
       "       ['2', '7', '1', '8']], \n",
       "      dtype='<U1')"
      ]
     },
     "execution_count": 19,
     "metadata": {},
     "output_type": "execute_result"
    }
   ],
   "source": [
    "# Now, we combine both arrays (first row and second row) into a 2x4 matrix\n",
    "CombinedMatrix = np.vstack((firstRow,secondRow))\n",
    "CombinedMatrix"
   ]
  },
  {
   "cell_type": "code",
   "execution_count": 23,
   "metadata": {
    "collapsed": false
   },
   "outputs": [
    {
     "name": "stdout",
     "output_type": "stream",
     "text": [
      "9.42477796076938\n"
     ]
    },
    {
     "data": {
      "text/plain": [
       "array(['9', '4', '2', '4'], \n",
       "      dtype='<U1')"
      ]
     },
     "execution_count": 23,
     "metadata": {},
     "output_type": "execute_result"
    }
   ],
   "source": [
    "# Array for row three (pi*3 without d.p)\n",
    "Pi = math.pi\n",
    "digitsOfPi = str(Pi*3)\n",
    "print (digitsOfPi)\n",
    "a = digitsOfPi[0]\n",
    "b = digitsOfPi[2]\n",
    "c = digitsOfPi[3]\n",
    "d = digitsOfPi[4]\n",
    "thirdRow = np.array([a,b,c,d])\n",
    "thirdRow"
   ]
  },
  {
   "cell_type": "code",
   "execution_count": 25,
   "metadata": {
    "collapsed": false
   },
   "outputs": [
    {
     "name": "stdout",
     "output_type": "stream",
     "text": [
      "0.6795704571147613\n"
     ]
    },
    {
     "data": {
      "text/plain": [
       "array(['0', '6', '7', '9'], \n",
       "      dtype='<U1')"
      ]
     },
     "execution_count": 25,
     "metadata": {},
     "output_type": "execute_result"
    }
   ],
   "source": [
    "# Array for row four (e/4 without d.p)\n",
    "Euler = math.e\n",
    "digitsofe = str(Euler/4)\n",
    "print(digitsofe)\n",
    "a = digitsofe[0]\n",
    "b = digitsofe[2]\n",
    "c = digitsofe[3]\n",
    "d = digitsofe[4]\n",
    "fourthRow = np.array([a,b,c,d])\n",
    "fourthRow"
   ]
  },
  {
   "cell_type": "code",
   "execution_count": 26,
   "metadata": {
    "collapsed": false
   },
   "outputs": [
    {
     "data": {
      "text/plain": [
       "array([['3', '1', '4', '1'],\n",
       "       ['2', '7', '1', '8'],\n",
       "       ['9', '4', '2', '4'],\n",
       "       ['0', '6', '7', '9']], \n",
       "      dtype='<U1')"
      ]
     },
     "execution_count": 26,
     "metadata": {},
     "output_type": "execute_result"
    }
   ],
   "source": [
    "# Now combine row three and four to previous two rows\n",
    "CombinedMatrix = np.vstack((firstRow,secondRow,thirdRow,fourthRow))\n",
    "CombinedMatrix"
   ]
  },
  {
   "cell_type": "code",
   "execution_count": 27,
   "metadata": {
    "collapsed": false
   },
   "outputs": [
    {
     "data": {
      "text/plain": [
       "array([[3, 1, 4, 1],\n",
       "       [2, 7, 1, 8],\n",
       "       [9, 4, 2, 4],\n",
       "       [0, 6, 7, 9]])"
      ]
     },
     "execution_count": 27,
     "metadata": {},
     "output_type": "execute_result"
    }
   ],
   "source": [
    "# Combining all rows into a final matrix of 4x4; str to int\n",
    "FinalMatrix = CombinedMatrix.astype(np.int)\n",
    "FinalMatrix"
   ]
  },
  {
   "cell_type": "code",
   "execution_count": null,
   "metadata": {
    "collapsed": true
   },
   "outputs": [],
   "source": []
  }
 ],
 "metadata": {
  "anaconda-cloud": {},
  "kernelspec": {
   "display_name": "Python [conda root]",
   "language": "python",
   "name": "conda-root-py"
  },
  "language_info": {
   "codemirror_mode": {
    "name": "ipython",
    "version": 3
   },
   "file_extension": ".py",
   "mimetype": "text/x-python",
   "name": "python",
   "nbconvert_exporter": "python",
   "pygments_lexer": "ipython3",
   "version": "3.5.2"
  }
 },
 "nbformat": 4,
 "nbformat_minor": 1
}
