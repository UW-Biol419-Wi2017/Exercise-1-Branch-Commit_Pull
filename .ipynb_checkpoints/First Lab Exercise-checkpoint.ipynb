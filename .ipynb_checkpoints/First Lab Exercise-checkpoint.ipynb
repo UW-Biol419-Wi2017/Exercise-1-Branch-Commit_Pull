{
 "cells": [
  {
   "cell_type": "code",
   "execution_count": null,
   "metadata": {
    "collapsed": true
   },
   "outputs": [],
   "source": [
    "# Your mission:\n",
    "# -fork this code to your own repository\n",
    "# -try running the code in Jupyter\n",
    "# -edit the code to produce the desired output \n",
    "# -add comments to describe the purpose of each step\n",
    "# -save your code\n",
    "# -commit the changes in GitHub\n",
    "# -submit a pull request to merge your altered code to the source repository\n",
    "# -Cooper will comment on the pull request to give you feedback"
   ]
  },
  {
   "cell_type": "code",
   "execution_count": null,
   "metadata": {
    "collapsed": true
   },
   "outputs": [],
   "source": [
    "# Code goal: create a 3x4 matrix with the following values\n",
    "# Row one: the first four digits of pi, without the decimal point\n",
    "# Row two: the digits of pi multiplied by 4 (multiply pi by 4 and then assign the digits to the matrix)\n",
    "# Row three: the first four digits of e, without the decimal point\n",
    "# Row four: the digits of e divided by 3 (divide each individual digit by 3 and assign to the matrix)"
   ]
  },
  {
   "cell_type": "code",
   "execution_count": 13,
   "metadata": {
    "collapsed": false
   },
   "outputs": [
    {
     "data": {
      "text/plain": [
       "3.141592653589793"
      ]
     },
     "execution_count": 13,
     "metadata": {},
     "output_type": "execute_result"
    }
   ],
   "source": [
    "import math #this line imports the math function to the code\n",
    "math.pi"
   ]
  },
  {
   "cell_type": "code",
   "execution_count": 14,
   "metadata": {
    "collapsed": false
   },
   "outputs": [
    {
     "data": {
      "text/plain": [
       "2.718281828459045"
      ]
     },
     "execution_count": 14,
     "metadata": {},
     "output_type": "execute_result"
    }
   ],
   "source": [
    "math.e"
   ]
  },
  {
   "cell_type": "code",
   "execution_count": 18,
   "metadata": {
    "collapsed": false
   },
   "outputs": [
    {
     "data": {
      "text/plain": [
       "array(['3', '1', '4', '1'], \n",
       "      dtype='<U1')"
      ]
     },
     "execution_count": 18,
     "metadata": {},
     "output_type": "execute_result"
    }
   ],
   "source": [
    "Pi=math.pi\n",
    "digitsOfPi=str(Pi)\n",
    "a=digitsOfPi[0]\n",
    "b=digitsOfPi[2]\n",
    "c=digitsOfPi[3]\n",
    "d=digitsOfPi[4]\n",
    "import numpy as np\n",
    "firstRow=np.array([a,b,c,d])\n",
    "firstRow"
   ]
  },
  {
   "cell_type": "code",
   "execution_count": 37,
   "metadata": {
    "collapsed": false
   },
   "outputs": [
    {
     "data": {
      "text/plain": [
       "array(['2', '7', '1', '8'], \n",
       "      dtype='<U1')"
      ]
     },
     "execution_count": 37,
     "metadata": {},
     "output_type": "execute_result"
    }
   ],
   "source": [
    "Euler=math.e\n",
    "digitsOfEuler=str(Euler)\n",
    "a2=digitsOfEuler[0]\n",
    "b2=digitsOfEuler[2]\n",
    "c2=digitsOfEuler[3]\n",
    "d2=digitsOfEuler[4]\n",
    "thirdRow=np.array([a2,b2,c2,d2])\n",
    "thirdRow"
   ]
  },
  {
   "cell_type": "code",
   "execution_count": 5,
   "metadata": {
    "collapsed": false
   },
   "outputs": [
    {
     "data": {
      "text/plain": [
       "array([ 8, 28,  4, 32])"
      ]
     },
     "execution_count": 5,
     "metadata": {},
     "output_type": "execute_result"
    }
   ],
   "source": [
    "y = secondRow.astype(np.int)\n",
    "y*4"
   ]
  },
  {
   "cell_type": "code",
   "execution_count": 25,
   "metadata": {
    "collapsed": false
   },
   "outputs": [
    {
     "data": {
      "text/plain": [
       "'12.566370614359172'"
      ]
     },
     "execution_count": 25,
     "metadata": {},
     "output_type": "execute_result"
    }
   ],
   "source": [
    "digits4Pi #this is just to see what 4Pi looks like"
   ]
  },
  {
   "cell_type": "code",
   "execution_count": 36,
   "metadata": {
    "collapsed": false
   },
   "outputs": [
    {
     "data": {
      "text/plain": [
       "array(['1', '2', '5', '6'], \n",
       "      dtype='<U1')"
      ]
     },
     "execution_count": 36,
     "metadata": {},
     "output_type": "execute_result"
    }
   ],
   "source": [
    "FourTimesPi=(Pi*4)\n",
    "digits4Pi=str(FourTimesPi)\n",
    "a1=digits4Pi[0]\n",
    "b1=digits4Pi[1]\n",
    "c1=digits4Pi[3]\n",
    "d1=digits4Pi[4]\n",
    "secondRow=np.array([a1,b1,c1,d1])\n",
    "secondRow # this command prints the third row"
   ]
  },
  {
   "cell_type": "code",
   "execution_count": 27,
   "metadata": {
    "collapsed": false
   },
   "outputs": [
    {
     "data": {
      "text/plain": [
       "'[2 7 1 8]'"
      ]
     },
     "execution_count": 27,
     "metadata": {},
     "output_type": "execute_result"
    }
   ],
   "source": [
    "digitsOfY #this is to see what digitsOfY looks like"
   ]
  },
  {
   "cell_type": "code",
   "execution_count": 33,
   "metadata": {
    "collapsed": false
   },
   "outputs": [
    {
     "data": {
      "text/plain": [
       "array(['2', '7', '1', '8'], \n",
       "      dtype='<U1')"
      ]
     },
     "execution_count": 33,
     "metadata": {},
     "output_type": "execute_result"
    }
   ],
   "source": [
    "y = thirdRow.astype(np.int)\n",
    "digitsOfY=str(y)\n",
    "a3=digitsOfY[1]\n",
    "b3=digitsOfY[3]\n",
    "c3=digitsOfY[5]\n",
    "d3=digitsOfY[7]\n",
    "fourthRow=np.array([a3,b3,c3,d3])\n",
    "fourthRow # this command prints the fourth row"
   ]
  },
  {
   "cell_type": "code",
   "execution_count": 38,
   "metadata": {
    "collapsed": false
   },
   "outputs": [
    {
     "data": {
      "text/plain": [
       "array([['3', '1', '4', '1'],\n",
       "       ['1', '2', '5', '6'],\n",
       "       ['2', '7', '1', '8'],\n",
       "       ['2', '7', '1', '8']], \n",
       "      dtype='<U1')"
      ]
     },
     "execution_count": 38,
     "metadata": {},
     "output_type": "execute_result"
    }
   ],
   "source": [
    "CombinedMatrix=np.vstack((firstRow,secondRow,thirdRow,fourthRow))\n",
    "CombinedMatrix"
   ]
  },
  {
   "cell_type": "code",
   "execution_count": 35,
   "metadata": {
    "collapsed": false
   },
   "outputs": [
    {
     "ename": "NameError",
     "evalue": "name 'FinalMattrix' is not defined",
     "output_type": "error",
     "traceback": [
      "\u001b[0;31m---------------------------------------------------------------------------\u001b[0m",
      "\u001b[0;31mNameError\u001b[0m                                 Traceback (most recent call last)",
      "\u001b[0;32m<ipython-input-35-128a597ef4d0>\u001b[0m in \u001b[0;36m<module>\u001b[0;34m()\u001b[0m\n\u001b[1;32m      1\u001b[0m \u001b[0mFinalMatrix\u001b[0m \u001b[0;34m=\u001b[0m \u001b[0mCombinedMatrix\u001b[0m\u001b[0;34m.\u001b[0m\u001b[0mastype\u001b[0m\u001b[0;34m(\u001b[0m\u001b[0mnp\u001b[0m\u001b[0;34m.\u001b[0m\u001b[0mint\u001b[0m\u001b[0;34m)\u001b[0m\u001b[0;34m\u001b[0m\u001b[0m\n\u001b[0;32m----> 2\u001b[0;31m \u001b[0mFinalMattrix\u001b[0m\u001b[0;34m\u001b[0m\u001b[0m\n\u001b[0m",
      "\u001b[0;31mNameError\u001b[0m: name 'FinalMattrix' is not defined"
     ]
    }
   ],
   "source": [
    "FinalMatrix = CombinedMatrix.astype(np.int)\n",
    "FinalMattrix"
   ]
  },
  {
   "cell_type": "code",
   "execution_count": null,
   "metadata": {
    "collapsed": false
   },
   "outputs": [],
   "source": []
  },
  {
   "cell_type": "code",
   "execution_count": null,
   "metadata": {
    "collapsed": false
   },
   "outputs": [],
   "source": []
  },
  {
   "cell_type": "code",
   "execution_count": null,
   "metadata": {
    "collapsed": true
   },
   "outputs": [],
   "source": []
  }
 ],
 "metadata": {
  "anaconda-cloud": {},
  "kernelspec": {
   "display_name": "Python 3",
   "language": "python",
   "name": "python3"
  },
  "language_info": {
   "codemirror_mode": {
    "name": "ipython",
    "version": 3
   },
   "file_extension": ".py",
   "mimetype": "text/x-python",
   "name": "python",
   "nbconvert_exporter": "python",
   "pygments_lexer": "ipython3",
   "version": "3.5.2"
  }
 },
 "nbformat": 4,
 "nbformat_minor": 1
}
