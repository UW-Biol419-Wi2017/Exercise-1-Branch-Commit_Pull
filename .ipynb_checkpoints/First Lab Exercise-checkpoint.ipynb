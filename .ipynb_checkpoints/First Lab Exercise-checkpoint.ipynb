{
 "cells": [
  {
   "cell_type": "code",
   "execution_count": 1,
   "metadata": {
    "collapsed": true
   },
   "outputs": [],
   "source": [
    "# Your mission:\n",
    "# -fork this code to your own repository\n",
    "# -try running the code in Jupyter\n",
    "# -edit the code to produce the desired output \n",
    "# -add comments to describe the purpose of each step\n",
    "# -save your code\n",
    "# -commit the changes in GitHub\n",
    "# -submit a pull request to merge your altered code to the source repository\n",
    "# -Cooper will comment on the pull request to give you feedback"
   ]
  },
  {
   "cell_type": "code",
   "execution_count": 2,
   "metadata": {
    "collapsed": true
   },
   "outputs": [],
   "source": [
    "# Code goal: create a 2x4 matrix with the following values\n",
    "# Row one: the first four digits of pi, without the decimal point (already done for you)\n",
    "# Row two: the first four digits of e, without the decimal point\n",
    "\n",
    "# OPTIONAL: append to the matrix above.\n",
    "# Rows one and two: same as above\n",
    "# Row three: the first 4 digits of pi*3, without the decimal point\n",
    "# Row four: the first four digits of e/4, without the decimal point"
   ]
  },
  {
   "cell_type": "code",
   "execution_count": 1,
   "metadata": {
    "collapsed": false
   },
   "outputs": [
    {
     "data": {
      "text/plain": [
       "3.141592653589793"
      ]
     },
     "execution_count": 1,
     "metadata": {},
     "output_type": "execute_result"
    }
   ],
   "source": [
    "# what is \"import math\" doing here? Add a comment here\n",
    "# It's importing the \"math\" package to work with the commands that we need.\n",
    "\n",
    "import math\n",
    "math.pi"
   ]
  },
  {
   "cell_type": "code",
   "execution_count": 5,
   "metadata": {
    "collapsed": false
   },
   "outputs": [
    {
     "data": {
      "text/plain": [
       "2.718281828459045"
      ]
     },
     "execution_count": 5,
     "metadata": {},
     "output_type": "execute_result"
    }
   ],
   "source": [
    "math.e"
   ]
  },
  {
   "cell_type": "code",
   "execution_count": 9,
   "metadata": {
    "collapsed": false
   },
   "outputs": [
    {
     "name": "stdout",
     "output_type": "stream",
     "text": [
      "3.141592653589793\n"
     ]
    }
   ],
   "source": [
    "# Add your comment of this section here\n",
    "# We are using \"Pi\" to define the number pi from the math package. str() is turning the number of pi into a word. \n",
    "#digitsOfPi is a string of symbols, and Pi is a number with a value.\n",
    "Pi = math.pi\n",
    "digitsOfPi = str(Pi) # what is \"str()\" doing? How is \"digitsOfPi\" different from \"Pi\"?\n",
    "print(digitsOfPi)"
   ]
  },
  {
   "cell_type": "code",
   "execution_count": 10,
   "metadata": {
    "collapsed": true
   },
   "outputs": [],
   "source": [
    "# Add your comment of this section here\n",
    "# These commands are now defining each of the first four digits of Pi separately.\n",
    "a = digitsOfPi[0]\n",
    "b = digitsOfPi[2]\n",
    "c = digitsOfPi[3]\n",
    "d = digitsOfPi[4]"
   ]
  },
  {
   "cell_type": "code",
   "execution_count": 12,
   "metadata": {
    "collapsed": false
   },
   "outputs": [
    {
     "data": {
      "text/plain": [
       "'4'"
      ]
     },
     "execution_count": 12,
     "metadata": {},
     "output_type": "execute_result"
    }
   ],
   "source": [
    "a\n",
    "b\n",
    "c"
   ]
  },
  {
   "cell_type": "code",
   "execution_count": 17,
   "metadata": {
    "collapsed": false
   },
   "outputs": [
    {
     "data": {
      "text/plain": [
       "array(['3', '1', '4', '1'], \n",
       "      dtype='<U1')"
      ]
     },
     "execution_count": 17,
     "metadata": {},
     "output_type": "execute_result"
    }
   ],
   "source": [
    "# Add your comment of this section here\n",
    "# adding the package numpy now, and defining it as np. Defining the array of the first four digits of Pi as firstRow\n",
    "#dtype in output indicates the array type.\n",
    "import numpy as np\n",
    "firstRow =  np.array([a,b,c,d])\n",
    "firstRow\n",
    "firstRow"
   ]
  },
  {
   "cell_type": "code",
   "execution_count": 32,
   "metadata": {
    "collapsed": false
   },
   "outputs": [
    {
     "name": "stdout",
     "output_type": "stream",
     "text": [
      "2.718281828459045\n"
     ]
    },
    {
     "data": {
      "text/plain": [
       "array(['2', '7', '1', '8'], \n",
       "      dtype='<U1')"
      ]
     },
     "execution_count": 32,
     "metadata": {},
     "output_type": "execute_result"
    }
   ],
   "source": [
    "Euler = math.e\n",
    "Euler\n",
    "# Add code here to construct row two (you can use row one as template)\n",
    "# more code here\n",
    "digitsofE = str(Euler)\n",
    "print (digitsofE)\n",
    "e = digitsofE[0]\n",
    "f = digitsofE[2]\n",
    "g = digitsofE[3]\n",
    "h = digitsofE[4]\n",
    "\n",
    "g\n",
    "\n",
    "secondRow = np.array([e,f,g,h])\n",
    "secondRow"
   ]
  },
  {
   "cell_type": "code",
   "execution_count": 34,
   "metadata": {
    "collapsed": false
   },
   "outputs": [
    {
     "data": {
      "text/plain": [
       "array([['3', '1', '4', '1'],\n",
       "       ['2', '7', '1', '8']], \n",
       "      dtype='<U1')"
      ]
     },
     "execution_count": 34,
     "metadata": {},
     "output_type": "execute_result"
    }
   ],
   "source": [
    "# Add your comment of this section here\n",
    "# CombinedMatrix is making a stack of the first row, and then the second row beneath.\n",
    "CombinedMatrix = np.vstack((firstRow,secondRow))\n",
    "CombinedMatrix"
   ]
  },
  {
   "cell_type": "code",
   "execution_count": 39,
   "metadata": {
    "collapsed": false
   },
   "outputs": [
    {
     "data": {
      "text/plain": [
       "array([[3, 1, 4, 1],\n",
       "       [2, 7, 1, 8]])"
      ]
     },
     "execution_count": 39,
     "metadata": {},
     "output_type": "execute_result"
    }
   ],
   "source": [
    "# Add your comment of this section here\n",
    "#np.int is changing the characters of the numbers back into integers. The output FinalMatrix is two rows of integers, \n",
    "#first row is first four numbers of Pi, second row is first four numbers of e. \n",
    "FinalMatrix = CombinedMatrix.astype(np.int)\n",
    "FinalMatrix"
   ]
  },
  {
   "cell_type": "code",
   "execution_count": 40,
   "metadata": {
    "collapsed": false
   },
   "outputs": [
    {
     "data": {
      "text/plain": [
       "array([[3, 1, 4, 1],\n",
       "       [2, 7, 1, 8]])"
      ]
     },
     "execution_count": 40,
     "metadata": {},
     "output_type": "execute_result"
    }
   ],
   "source": [
    "FinalMatrix"
   ]
  },
  {
   "cell_type": "code",
   "execution_count": null,
   "metadata": {
    "collapsed": true
   },
   "outputs": [],
   "source": []
  }
 ],
 "metadata": {
  "anaconda-cloud": {},
  "kernelspec": {
   "display_name": "Python [conda root]",
   "language": "python",
   "name": "conda-root-py"
  },
  "language_info": {
   "codemirror_mode": {
    "name": "ipython",
    "version": 3
   },
   "file_extension": ".py",
   "mimetype": "text/x-python",
   "name": "python",
   "nbconvert_exporter": "python",
   "pygments_lexer": "ipython3",
   "version": "3.5.2"
  }
 },
 "nbformat": 4,
 "nbformat_minor": 1
}
